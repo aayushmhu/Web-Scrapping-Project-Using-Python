{
 "cells": [
  {
   "cell_type": "code",
   "execution_count": 22,
   "metadata": {},
   "outputs": [],
   "source": [
    "from bs4 import BeautifulSoup as soup"
   ]
  },
  {
   "cell_type": "code",
   "execution_count": 23,
   "metadata": {},
   "outputs": [],
   "source": [
    "from urllib.request import urlopen as uReq"
   ]
  },
  {
   "cell_type": "code",
   "execution_count": 24,
   "metadata": {},
   "outputs": [
    {
     "name": "stdout",
     "output_type": "stream",
     "text": [
      "Please Enter Filpcart Products Link: https://www.flipkart.com/search?q=iphone\n"
     ]
    }
   ],
   "source": [
    "my_url = 'https://www.flipkart.com/search?q=iphone&sid=tyy%2C4io&as=on&as-show'\n",
    "my_url1 = \"https://www.flipkart.com/search?q=samsung&otracker=search&otracker1=search&marketplace=FLIPKART&as-show=off&as=off\"\n",
    "userinput = input(\"Please Enter Filpcart Products Link: \")"
   ]
  },
  {
   "cell_type": "code",
   "execution_count": 25,
   "metadata": {},
   "outputs": [],
   "source": [
    "uClient = uReq(userinput)"
   ]
  },
  {
   "cell_type": "code",
   "execution_count": 26,
   "metadata": {},
   "outputs": [],
   "source": [
    "page_html = uClient.read()"
   ]
  },
  {
   "cell_type": "code",
   "execution_count": 27,
   "metadata": {},
   "outputs": [],
   "source": [
    "uClient.close()\n",
    "page_soup = soup(page_html, 'html.parser')"
   ]
  },
  {
   "cell_type": "code",
   "execution_count": 28,
   "metadata": {},
   "outputs": [],
   "source": [
    "containers = page_soup.findAll(\"div\", {\"class\", \"_3O0U0u\"})"
   ]
  },
  {
   "cell_type": "code",
   "execution_count": 29,
   "metadata": {},
   "outputs": [
    {
     "name": "stdout",
     "output_type": "stream",
     "text": [
      "24\n"
     ]
    }
   ],
   "source": [
    "print(len(containers))"
   ]
  },
  {
   "cell_type": "code",
   "execution_count": 30,
   "metadata": {},
   "outputs": [],
   "source": [
    "#print html code that scrap\n",
    "#print(soup.prettify(containers[0]))"
   ]
  },
  {
   "cell_type": "code",
   "execution_count": 31,
   "metadata": {},
   "outputs": [],
   "source": [
    "container = containers[0]"
   ]
  },
  {
   "cell_type": "code",
   "execution_count": 32,
   "metadata": {},
   "outputs": [],
   "source": [
    "#Print the titile of Iphonrr\n",
    "#print(containers.div.img['alt'])"
   ]
  },
  {
   "cell_type": "code",
   "execution_count": 33,
   "metadata": {},
   "outputs": [
    {
     "name": "stdout",
     "output_type": "stream",
     "text": [
      "Apple iPhone 7 (Black, 32 GB)\n"
     ]
    }
   ],
   "source": [
    "#scrap Titile\n",
    "title = container.findAll(\"div\", {\"class\", \"_3wU53n\"})\n",
    "print(title[0].text)"
   ]
  },
  {
   "cell_type": "code",
   "execution_count": 34,
   "metadata": {},
   "outputs": [],
   "source": [
    "#scrap Price\n",
    "price = container.findAll(\"div\", {\"class\", \"_1vC4OE _2rQ-NK\"})\n"
   ]
  },
  {
   "cell_type": "code",
   "execution_count": 35,
   "metadata": {},
   "outputs": [
    {
     "name": "stdout",
     "output_type": "stream",
     "text": [
      "₹26,999\n"
     ]
    }
   ],
   "source": [
    "print(price[0].text)"
   ]
  },
  {
   "cell_type": "code",
   "execution_count": 36,
   "metadata": {},
   "outputs": [
    {
     "name": "stdout",
     "output_type": "stream",
     "text": [
      "4.5\n"
     ]
    }
   ],
   "source": [
    "#Scrap Ratting\n",
    "rating = container.findAll(\"div\", {\"class\", \"hGSR34\"})\n",
    "print(rating[0].text)\n"
   ]
  },
  {
   "cell_type": "code",
   "execution_count": 37,
   "metadata": {},
   "outputs": [
    {
     "name": "stdout",
     "output_type": "stream",
     "text": [
      "Apple\n"
     ]
    }
   ],
   "source": [
    "filenames = title[0].text.split(\" \")[0]\n",
    "print(filenames)"
   ]
  },
  {
   "cell_type": "code",
   "execution_count": 38,
   "metadata": {},
   "outputs": [],
   "source": [
    "#Creating a CSV File\n",
    "\n",
    "filename = filenames + '.csv'"
   ]
  },
  {
   "cell_type": "code",
   "execution_count": 39,
   "metadata": {},
   "outputs": [],
   "source": [
    "#Filename as Search\n",
    "\n",
    "f = open(filename, \"w\")"
   ]
  },
  {
   "cell_type": "code",
   "execution_count": 40,
   "metadata": {},
   "outputs": [
    {
     "data": {
      "text/plain": [
       "31"
      ]
     },
     "execution_count": 40,
     "metadata": {},
     "output_type": "execute_result"
    }
   ],
   "source": [
    "#Create Header of CSV File\n",
    "headers = \"Products_name,Pricing,Rattings\\n\"\n",
    "f.write(headers)"
   ]
  },
  {
   "cell_type": "code",
   "execution_count": 41,
   "metadata": {},
   "outputs": [],
   "source": [
    "for container in containers:\n",
    "    #Scrap Tiitle Container\n",
    "    products_name_container = container.findAll(\"div\", {\"class\", \"_3wU53n\"})\n",
    "    #Scrap Title\n",
    "    products_name = products_name_container[0].text\n",
    "    #Scrap Price Container\n",
    "    price_container = container.findAll(\"div\", {\"class\", \"_1vC4OE _2rQ-NK\"})\n",
    "    #Scrap Price\n",
    "    price = price_container[0].text\n",
    "    #Scrap Rating Container\n",
    "    rating_container = container.findAll(\"div\", {\"class\", \"hGSR34\"})\n",
    "    #Scrap Rating\n",
    "    rating = rating_container[0].text\n",
    "    #Print all of These\n",
    "    #print(products_name)\n",
    "    #print(price)\n",
    "    #print(rating)\n",
    "    \n",
    "    #Make String Simple as Remove Rupes Sign and Commas \n",
    "    trim_price = \"\".join(price.split(','))\n",
    "    rm_rupes = trim_price.split(\"₹\")\n",
    "    final_price = \"Rs.\" + rm_rupes[1]\n",
    "    \n",
    "    #Now Print Again and Check Data Before Insert into CSV Files\n",
    "    #print(products_name.replace(\",\", \"!\") + \",\" + final_price + \",\" + rating + \"\\n\")\n",
    "    #Write these Data into CSV File\n",
    "    f.write(products_name.replace(\",\", \"!\") + \",\" + final_price + \",\" + rating + \"\\n\")\n",
    "   "
   ]
  },
  {
   "cell_type": "code",
   "execution_count": 42,
   "metadata": {},
   "outputs": [],
   "source": [
    "f.close()"
   ]
  },
  {
   "cell_type": "code",
   "execution_count": null,
   "metadata": {},
   "outputs": [],
   "source": []
  }
 ],
 "metadata": {
  "kernelspec": {
   "display_name": "Python 3",
   "language": "python",
   "name": "python3"
  },
  "language_info": {
   "codemirror_mode": {
    "name": "ipython",
    "version": 3
   },
   "file_extension": ".py",
   "mimetype": "text/x-python",
   "name": "python",
   "nbconvert_exporter": "python",
   "pygments_lexer": "ipython3",
   "version": "3.7.1"
  }
 },
 "nbformat": 4,
 "nbformat_minor": 2
}
